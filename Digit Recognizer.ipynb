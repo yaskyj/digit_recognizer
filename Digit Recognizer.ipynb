{
 "cells": [
  {
   "cell_type": "code",
   "execution_count": 1,
   "metadata": {},
   "outputs": [
    {
     "name": "stderr",
     "output_type": "stream",
     "text": [
      "Using TensorFlow backend.\n"
     ]
    }
   ],
   "source": [
    "import numpy as np\n",
    "import pandas as pd\n",
    "from keras.datasets import mnist\n",
    "from keras.models import Sequential\n",
    "from keras.layers import Dense\n",
    "from keras.layers import Dropout\n",
    "from keras.layers import Flatten\n",
    "from keras.layers.convolutional import Conv2D \n",
    "from keras.layers.convolutional import MaxPooling2D \n",
    "from keras.utils import np_utils\n",
    "from keras import backend as K\n",
    "from keras.callbacks import EarlyStopping\n",
    "K.set_image_dim_ordering('th')\n",
    "import matplotlib.pyplot as plt"
   ]
  },
  {
   "cell_type": "code",
   "execution_count": 2,
   "metadata": {},
   "outputs": [],
   "source": [
    "# fix random seed for reproducibility\n",
    "seed = 7\n",
    "np.random.seed(seed)"
   ]
  },
  {
   "cell_type": "code",
   "execution_count": 3,
   "metadata": {},
   "outputs": [],
   "source": [
    "# train = pd.read_csv('train.csv')\n",
    "# features = [c for c in train.columns if c != 'label']\n",
    "from sklearn.model_selection import train_test_split\n",
    "# X_train, X_test, y_train, y_test = train_test_split(train[features].values, train.label.values, test_size=0.33, random_state=seed)\n",
    "# X_train = X_train.reshape(X_train.shape[0], 28, 28)\n",
    "# X_test = X_test.reshape(X_test.shape[0], 28, 28)"
   ]
  },
  {
   "cell_type": "code",
   "execution_count": 4,
   "metadata": {},
   "outputs": [
    {
     "data": {
      "image/png": "[encoded data removed]",
      "text/plain": [
       "<matplotlib.figure.Figure at 0x118d30190>"
      ]
     },
     "metadata": {},
     "output_type": "display_data"
    }
   ],
   "source": [
    "# load (downloaded if needed) the MNIST dataset \n",
    "(X_train, y_train), (X_test, y_test) = mnist.load_data() \n",
    "# plot 4 images as gray scale\n",
    "plt.subplot(221)\n",
    "plt.imshow(X_train[0], cmap=plt.get_cmap('gray'))\n",
    "plt.subplot(222)\n",
    "plt.imshow(X_train[1], cmap=plt.get_cmap('gray'))\n",
    "plt.subplot(223)\n",
    "plt.imshow(X_train[2], cmap=plt.get_cmap('gray')) \n",
    "plt.subplot(224)\n",
    "plt.imshow(X_train[3], cmap=plt.get_cmap('gray'))\n",
    "# show the plot\n",
    "plt.show()"
   ]
  },
  {
   "cell_type": "code",
   "execution_count": 5,
   "metadata": {
    "collapsed": true
   },
   "outputs": [],
   "source": [
    "# reshape to be [samples][channels][width][height]\n",
    "X_train = X_train.reshape(X_train.shape[0], 1, 28, 28).astype('float32') \n",
    "X_test = X_test.reshape(X_test.shape[0], 1, 28, 28).astype('float32')"
   ]
  },
  {
   "cell_type": "code",
   "execution_count": 6,
   "metadata": {
    "collapsed": true
   },
   "outputs": [],
   "source": [
    "# normalize inputs from 0-255 to 0-1\n",
    "X_train = X_train / 255\n",
    "X_test = X_test / 255\n",
    "# one hot encode outputs\n",
    "y_train = np_utils.to_categorical(y_train)\n",
    "y_test = np_utils.to_categorical(y_test)\n",
    "num_classes = y_test.shape[1]"
   ]
  },
  {
   "cell_type": "code",
   "execution_count": 7,
   "metadata": {},
   "outputs": [],
   "source": [
    "def larger_model():\n",
    "    # create model\n",
    "    model = Sequential()\n",
    "    model.add(Conv2D(30, (5, 5), \n",
    "                     input_shape=(1, 28, 28), \n",
    "                     activation='relu'))\n",
    "    model.add(MaxPooling2D(pool_size=(2, 2)))\n",
    "    model.add(Conv2D(15, (3, 3), activation='relu')) \n",
    "    model.add(MaxPooling2D(pool_size=(2, 2)))\n",
    "    model.add(Dropout(0.2))\n",
    "    model.add(Flatten())\n",
    "    model.add(Dense(128, activation='relu'))\n",
    "    model.add(Dense(50, activation='relu'))\n",
    "    model.add(Dense(num_classes, activation='softmax'))\n",
    "    # Compile model\n",
    "    model.compile(loss='categorical_crossentropy', optimizer='adam', metrics=['accuracy']) \n",
    "    return model"
   ]
  },
  {
   "cell_type": "code",
   "execution_count": 8,
   "metadata": {
    "scrolled": false
   },
   "outputs": [
    {
     "name": "stdout",
     "output_type": "stream",
     "text": [
      "Train on 60000 samples, validate on 10000 samples\n",
      "Epoch 1/50\n",
      "60000/60000 [==============================] - 140s 2ms/step - loss: 0.3964 - acc: 0.8780 - val_loss: 0.1005 - val_acc: 0.9684\n",
      "Epoch 2/50\n",
      "60000/60000 [==============================] - 140s 2ms/step - loss: 0.0951 - acc: 0.9708 - val_loss: 0.0594 - val_acc: 0.9805\n",
      "Epoch 3/50\n",
      "60000/60000 [==============================] - 139s 2ms/step - loss: 0.0689 - acc: 0.9787 - val_loss: 0.0373 - val_acc: 0.9888\n",
      "Epoch 4/50\n",
      "60000/60000 [==============================] - 138s 2ms/step - loss: 0.0565 - acc: 0.9825 - val_loss: 0.0331 - val_acc: 0.9893\n",
      "Epoch 5/50\n",
      "60000/60000 [==============================] - 139s 2ms/step - loss: 0.0477 - acc: 0.9849 - val_loss: 0.0307 - val_acc: 0.9891\n",
      "Epoch 6/50\n",
      "60000/60000 [==============================] - 139s 2ms/step - loss: 0.0431 - acc: 0.9863 - val_loss: 0.0271 - val_acc: 0.9909\n",
      "Epoch 7/50\n",
      "60000/60000 [==============================] - 139s 2ms/step - loss: 0.0383 - acc: 0.9876 - val_loss: 0.0267 - val_acc: 0.9909\n",
      "Epoch 8/50\n",
      "60000/60000 [==============================] - 139s 2ms/step - loss: 0.0348 - acc: 0.9890 - val_loss: 0.0227 - val_acc: 0.9927\n",
      "Epoch 9/50\n",
      "60000/60000 [==============================] - 139s 2ms/step - loss: 0.0321 - acc: 0.9904 - val_loss: 0.0222 - val_acc: 0.9933\n",
      "Epoch 10/50\n",
      "60000/60000 [==============================] - 137s 2ms/step - loss: 0.0274 - acc: 0.9910 - val_loss: 0.0219 - val_acc: 0.9925\n",
      "Epoch 11/50\n",
      "60000/60000 [==============================] - 138s 2ms/step - loss: 0.0281 - acc: 0.9910 - val_loss: 0.0214 - val_acc: 0.9931\n",
      "Epoch 12/50\n",
      "60000/60000 [==============================] - 137s 2ms/step - loss: 0.0252 - acc: 0.9919 - val_loss: 0.0227 - val_acc: 0.9925\n",
      "Epoch 13/50\n",
      "60000/60000 [==============================] - 138s 2ms/step - loss: 0.0238 - acc: 0.9922 - val_loss: 0.0230 - val_acc: 0.9934\n",
      "Epoch 14/50\n",
      "60000/60000 [==============================] - 139s 2ms/step - loss: 0.0239 - acc: 0.9921 - val_loss: 0.0249 - val_acc: 0.9920\n",
      "Epoch 15/50\n",
      "60000/60000 [==============================] - 139s 2ms/step - loss: 0.0213 - acc: 0.9930 - val_loss: 0.0238 - val_acc: 0.9923\n",
      "Epoch 16/50\n",
      "60000/60000 [==============================] - 139s 2ms/step - loss: 0.0186 - acc: 0.9942 - val_loss: 0.0201 - val_acc: 0.9936\n",
      "Epoch 17/50\n",
      "60000/60000 [==============================] - 139s 2ms/step - loss: 0.0175 - acc: 0.9940 - val_loss: 0.0257 - val_acc: 0.9926\n",
      "Epoch 18/50\n",
      "60000/60000 [==============================] - 139s 2ms/step - loss: 0.0172 - acc: 0.9941 - val_loss: 0.0233 - val_acc: 0.9934\n",
      "Epoch 19/50\n",
      "60000/60000 [==============================] - 139s 2ms/step - loss: 0.0161 - acc: 0.9945 - val_loss: 0.0267 - val_acc: 0.9922\n",
      "Epoch 20/50\n",
      "60000/60000 [==============================] - 139s 2ms/step - loss: 0.0168 - acc: 0.9944 - val_loss: 0.0256 - val_acc: 0.9926\n",
      "Epoch 21/50\n",
      "60000/60000 [==============================] - 139s 2ms/step - loss: 0.0151 - acc: 0.9951 - val_loss: 0.0226 - val_acc: 0.9934\n",
      "Epoch 00021: early stopping\n",
      "Large CNN Error: 0.66%\n"
     ]
    }
   ],
   "source": [
    "early_stopping_monitor = EarlyStopping(monitor='val_acc', patience=5, verbose=1)\n",
    "# build the model\n",
    "model = larger_model()\n",
    "# Fit the model\n",
    "model.fit(X_train, y_train, \n",
    "          validation_data=(X_test, y_test), \n",
    "          epochs=50, batch_size=200, \n",
    "          callbacks=[early_stopping_monitor], verbose=1)\n",
    "# Final evaluation of the model\n",
    "scores = model.evaluate(X_test, y_test, verbose=0)\n",
    "print(\"Large CNN Error: %.2f%%\" % (100-scores[1]*100))"
   ]
  },
  {
   "cell_type": "code",
   "execution_count": 9,
   "metadata": {
    "collapsed": true
   },
   "outputs": [],
   "source": [
    "test_temp = pd.read_csv('test.csv')"
   ]
  },
  {
   "cell_type": "code",
   "execution_count": 10,
   "metadata": {
    "collapsed": true
   },
   "outputs": [],
   "source": [
    "test = test_temp.values.reshape(test_temp.values.shape[0], 28, 28)\n",
    "test = test.reshape(test.shape[0], 1, 28, 28).astype('float32')\n",
    "test = test / 255"
   ]
  },
  {
   "cell_type": "code",
   "execution_count": 11,
   "metadata": {},
   "outputs": [],
   "source": [
    "pred_class = model.predict_classes(test)"
   ]
  },
  {
   "cell_type": "code",
   "execution_count": 12,
   "metadata": {
    "collapsed": true
   },
   "outputs": [],
   "source": [
    "submission = pd.DataFrame(data=np.column_stack((test_temp.index.values+1,pred_class)), \n",
    "                          columns=['ImageId', 'Label'])"
   ]
  },
  {
   "cell_type": "code",
   "execution_count": 13,
   "metadata": {
    "collapsed": true
   },
   "outputs": [],
   "source": [
    "submission.to_csv('submission.csv', index=False)"
   ]
  }
 ],
 "metadata": {
  "kernelspec": {
   "display_name": "Python 2",
   "language": "python",
   "name": "python2"
  },
  "language_info": {
   "codemirror_mode": {
    "name": "ipython",
    "version": 2
   },
   "file_extension": ".py",
   "mimetype": "text/x-python",
   "name": "python",
   "nbconvert_exporter": "python",
   "pygments_lexer": "ipython2",
   "version": "2.7.14"
  }
 },
 "nbformat": 4,
 "nbformat_minor": 2
}
